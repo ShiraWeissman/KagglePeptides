{
 "cells": [
  {
   "cell_type": "code",
   "execution_count": null,
   "id": "a92ee708-2302-4dd2-b71f-7e3d173b7775",
   "metadata": {},
   "outputs": [],
   "source": [
    "!pip install requirements.txt"
   ]
  },
  {
   "cell_type": "code",
   "execution_count": 1,
   "id": "be3f13d7-2617-4629-9a6a-960b4ee02673",
   "metadata": {},
   "outputs": [],
   "source": [
    "import os\n",
    "import sys\n",
    "sys.path.append(os.path.dirname(os.path.abspath(os.curdir)))\n",
    "import pandas as pd\n",
    "import numpy as np\n",
    "import matplotlib.pyplot as plt\n",
    "import seaborn as sns\n",
    "import re\n",
    "import string\n",
    "from collections import Counter\n",
    "from sklearn.feature_extraction.text import TfidfVectorizer\n",
    "from utils.data import *\n",
    "from data.preprocessing.preprocessing import *\n",
    "import warnings\n",
    "warnings.filterwarnings(\"ignore\")"
   ]
  },
  {
   "cell_type": "markdown",
   "id": "56e91387-ab16-441c-976c-d2a9aa46e433",
   "metadata": {},
   "source": [
    "<font size=\"6\">Loading data..</font>"
   ]
  },
  {
   "cell_type": "code",
   "execution_count": 2,
   "id": "51c92038-aa6a-44a7-abeb-9a27a5c232dc",
   "metadata": {},
   "outputs": [],
   "source": [
    "train_data = load_data(os.path.join(dataset_path, 'train.csv'))\n",
    "test_data = load_data(os.path.join(dataset_path, 'test.csv'))"
   ]
  },
  {
   "cell_type": "markdown",
   "id": "0b84ab32-498e-4ee0-b5a9-5ae71516d3a3",
   "metadata": {},
   "source": [
    "<font size=\"6\">Data Preprocessing..</font>"
   ]
  },
  {
   "cell_type": "markdown",
   "id": "e5c9863f-3b37-473d-9659-9a3743e7a188",
   "metadata": {},
   "source": [
    "<font size=\"3\">1. If modification is available, The sign + or - for Acetyl or Oxidation respectively, is added to the sequence after the indexed letter.</font><br>\n",
    "<font size=\"3\">For example: in the sequence: GTLSAELTAAHFGGGGGLLHK with modification: 4|Oxidation|10|Oxidation,</font><br>\n",
    "<font size=\"3\">the result sequence is GTLS+AELTAA+HFGGGGGLLHK</font><br>\n",
    "<font size=\"3\">2. The \"PeptideSequence\" title is changed to \"text\", the \"RetentionTime\" title is changed to \"label\",</font><br> \n",
    "<font size=\"3\">and \"ID\" and \"Modifications\" columns are removed.</font>"
   ]
  },
  {
   "cell_type": "code",
   "execution_count": 3,
   "id": "60856cd6-a0d2-44da-8ac5-7d998a794d19",
   "metadata": {},
   "outputs": [],
   "source": [
    "train_data = preprocess_data(train_data)\n",
    "test_data = preprocess_data(test_data)"
   ]
  },
  {
   "cell_type": "markdown",
   "id": "a3ce361a-423e-4be7-b081-f7a93cbe264a",
   "metadata": {},
   "source": [
    "<font size=\"6\">Removing outliers from the train set</font>"
   ]
  },
  {
   "cell_type": "code",
   "execution_count": 4,
   "id": "9af7dd6d-7c1c-4d5a-9e31-6d6220d1e80b",
   "metadata": {},
   "outputs": [
    {
     "name": "stdout",
     "output_type": "stream",
     "text": [
      "label Outliers detected: 2\n"
     ]
    }
   ],
   "source": [
    "numerical_cols = ['label']\n",
    "for col in numerical_cols:\n",
    "    Q1 = train_data[col].quantile(0.25)\n",
    "    Q3 = train_data[col].quantile(0.75)\n",
    "    IQR = Q3 - Q1\n",
    "    lower_bound = Q1 - 1.5 * IQR\n",
    "    upper_bound = Q3 + 1.5 * IQR\n",
    "    train_data[f'{col}_is_outlier'] = (train_data[col] < lower_bound) | (train_data[col] > upper_bound)\n",
    "    \n",
    "    # 5. Count outliers\n",
    "    num_outliers = train_data[f'{col}_is_outlier'].sum()\n",
    "    \n",
    "    print(f\"{col} Outliers detected: {num_outliers}\")"
   ]
  },
  {
   "cell_type": "code",
   "execution_count": 5,
   "id": "b540fffe-8bc8-4f2d-b134-ef6d1199b699",
   "metadata": {},
   "outputs": [
    {
     "name": "stdout",
     "output_type": "stream",
     "text": [
      "9998\n"
     ]
    }
   ],
   "source": [
    "train_data = train_data[~train_data[f'{col}_is_outlier']]\n",
    "print(len(train_data))\n",
    "train_data = train_data.drop(f'{col}_is_outlier', axis=1)"
   ]
  },
  {
   "cell_type": "markdown",
   "id": "adbb0c5a-c616-486e-8d7b-aad6f94ab53a",
   "metadata": {},
   "source": [
    "<font size=\"6\">Preprocessed Data Visualization</font>"
   ]
  },
  {
   "cell_type": "code",
   "execution_count": 6,
   "id": "11c5c14e-37e9-4f56-b209-bc755db08e71",
   "metadata": {},
   "outputs": [],
   "source": [
    "text_col = 'text'\n",
    "train_data[f\"{text_col}_length\"] = train_data[text_col].str.len()\n",
    "test_data[f\"{text_col}_length\"] = test_data[text_col].str.len()\n",
    "numerical_col = f\"{text_col}_length\""
   ]
  },
  {
   "cell_type": "code",
   "execution_count": 7,
   "id": "79d1523b-ac0e-4318-b162-e1ecc2604831",
   "metadata": {},
   "outputs": [
    {
     "data": {
      "image/png": "[encoded data removed]",
      "text/plain": [
       "<Figure size 1200x400 with 2 Axes>"
      ]
     },
     "metadata": {},
     "output_type": "display_data"
    }
   ],
   "source": [
    "fig, axes = plt.subplots(nrows=1, ncols=2, figsize=(12, 4))\n",
    "datasets = {'train':train_data, 'test': test_data}\n",
    "# fig.tight_layout()\n",
    "for ax, data_type in zip(axes, datasets):\n",
    "    ax.hist(datasets[data_type][numerical_col], weights=100*np.ones(len(datasets[data_type][numerical_col])) / len(datasets[data_type][numerical_col]))\n",
    "    ax.set_title(f'Distribution of {numerical_col} - {data_type}')\n",
    "    ax.set_xlabel('Values')\n",
    "    ax.set_ylabel('Count %')"
   ]
  },
  {
   "cell_type": "code",
   "execution_count": 8,
   "id": "a4447f44-bb04-459b-9175-b74fe3876a5f",
   "metadata": {},
   "outputs": [],
   "source": [
    "train_data = train_data.drop(f\"{text_col}_length\", axis=1)\n",
    "test_data = test_data.drop(f\"{text_col}_length\", axis=1)"
   ]
  },
  {
   "cell_type": "markdown",
   "id": "c2f9f554-5b42-4811-af84-a07896c29b01",
   "metadata": {},
   "source": [
    "<font size=\"6\">Saving preprocessed data</font>"
   ]
  },
  {
   "cell_type": "code",
   "execution_count": 9,
   "id": "4f70c4de-9e62-4c4a-bb98-e2dab52a9eaf",
   "metadata": {},
   "outputs": [],
   "source": [
    "save_data(train_data, os.path.join(dataset_path, 'preprocessed', 'train.csv'), file_type='csv')\n",
    "save_data(train_data, os.path.join(dataset_path, 'preprocessed', 'test.csv'), file_type='csv')"
   ]
  },
  {
   "cell_type": "code",
   "execution_count": null,
   "id": "6df6e5d2-6e5c-4054-984d-3c4dd8629601",
   "metadata": {},
   "outputs": [],
   "source": []
  }
 ],
 "metadata": {
  "kernelspec": {
   "display_name": "Python 3 (ipykernel)",
   "language": "python",
   "name": "python3"
  },
  "language_info": {
   "codemirror_mode": {
    "name": "ipython",
    "version": 3
   },
   "file_extension": ".py",
   "mimetype": "text/x-python",
   "name": "python",
   "nbconvert_exporter": "python",
   "pygments_lexer": "ipython3",
   "version": "3.11.13"
  }
 },
 "nbformat": 4,
 "nbformat_minor": 5
}
